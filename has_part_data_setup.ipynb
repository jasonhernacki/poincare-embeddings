{
 "cells": [
  {
   "cell_type": "code",
   "execution_count": 1,
   "metadata": {},
   "outputs": [
    {
     "name": "stderr",
     "output_type": "stream",
     "text": [
      "Using custom data configuration default\n",
      "Reusing dataset has_part (C:\\Users\\Jason\\.cache\\huggingface\\datasets\\has_part\\default\\0.0.0\\e1bbbdb3ab83a01429e00df22c9574428116da8fc94c6fbb109481ce85d2a5e7)\n"
     ]
    }
   ],
   "source": [
    "from datasets import load_dataset\n",
    "import pickle\n",
    "dataset = load_dataset('has_part', 'default', split='train')\n"
   ]
  },
  {
   "cell_type": "code",
   "execution_count": 2,
   "metadata": {},
   "outputs": [],
   "source": [
    "data = [pair for pair in dataset[\"synset\"] if len(pair) == 2] # (pair[1], pair[0])"
   ]
  },
  {
   "cell_type": "code",
   "execution_count": 4,
   "metadata": {},
   "outputs": [],
   "source": [
    "data_file = open('has_pair.pickle', 'wb')\n",
    "pickle.dump(data, data_file)\n",
    "data_file.close()"
   ]
  },
  {
   "cell_type": "code",
   "execution_count": null,
   "metadata": {},
   "outputs": [],
   "source": []
  }
 ],
 "metadata": {
  "interpreter": {
   "hash": "1d634de237019af3a898bf00387abe9a86e18c84c70ba6ece488f684ecfcdd38"
  },
  "kernelspec": {
   "display_name": "Python 3.9.7 ('base')",
   "language": "python",
   "name": "python3"
  },
  "language_info": {
   "codemirror_mode": {
    "name": "ipython",
    "version": 3
   },
   "file_extension": ".py",
   "mimetype": "text/x-python",
   "name": "python",
   "nbconvert_exporter": "python",
   "pygments_lexer": "ipython3",
   "version": "3.9.7"
  },
  "orig_nbformat": 4
 },
 "nbformat": 4,
 "nbformat_minor": 2
}
